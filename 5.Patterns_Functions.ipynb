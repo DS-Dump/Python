{
 "cells": [
  {
   "cell_type": "code",
   "execution_count": 3,
   "metadata": {},
   "outputs": [
    {
     "name": "stdout",
     "output_type": "stream",
     "text": [
      "1\n",
      "2\n",
      "3\n",
      "4\n",
      "5\n",
      "no 10 rs notes are available \n"
     ]
    }
   ],
   "source": [
    "notes = 5 \n",
    "i = 1 \n",
    "j = 1\n",
    "while i < notes:\n",
    "    print(i)\n",
    "    i += 1\n",
    "else :\n",
    "    \n",
    "    while j < 2 :\n",
    "        print(i)\n",
    "        j = j + 1 \n",
    "    print(\"no 10 rs notes are available \")"
   ]
  },
  {
   "cell_type": "code",
   "execution_count": 1,
   "metadata": {},
   "outputs": [],
   "source": [
    "# n = 7 \n",
    "# for i in range(0 ,n):\n",
    "#     for j in range(0 ,i +1):\n",
    "#         print(\"+ \" , end = \"\")\n",
    "#     print(\"\\r\")\n",
    "    "
   ]
  },
  {
   "cell_type": "code",
   "execution_count": 2,
   "metadata": {},
   "outputs": [],
   "source": [
    "# def pattern(n):\n",
    "#       k = 2*n -2\n",
    "#       for i in range(n,-1,-1):\n",
    "#            for j in range(k,0,-1):\n",
    "#                 print(end=\" \")\n",
    "#            k = k +1\n",
    "#            for j in range(0, i+1):\n",
    "#                 print(\"*\", end=\" \")\n",
    "#            print(\"\\r\")\n",
    " \n",
    "# pattern(5)\n"
   ]
  },
  {
   "cell_type": "code",
   "execution_count": 3,
   "metadata": {},
   "outputs": [],
   "source": [
    "# for i in range(7,0,-1):\n",
    "#     print(i)"
   ]
  },
  {
   "cell_type": "code",
   "execution_count": 4,
   "metadata": {},
   "outputs": [],
   "source": [
    "# n = int(input('Enter number of rows required: '))\n",
    "\n",
    "# for i in range(n,0,-1):\n",
    "#     for j in range(n-i):\n",
    "#         print(' ', end='') \n",
    "    \n",
    "#     for j in range(2*i-1):\n",
    "#         print('*',end='') \n",
    "#     print()\n"
   ]
  },
  {
   "cell_type": "code",
   "execution_count": null,
   "metadata": {},
   "outputs": [],
   "source": []
  },
  {
   "cell_type": "code",
   "execution_count": 5,
   "metadata": {},
   "outputs": [],
   "source": [
    "# num = 5\n",
    "# m = 2 * num - 2\n",
    "# for i in range(num, -1, -1):\n",
    "#     for j in range(m, 0, -1):\n",
    "#         print(end=\" \")\n",
    "#     m = m + 1\n",
    "#     for j in range(0, i + 1):\n",
    "#         print(\"*\", end=\" \")\n",
    "#     print(\"\")\n"
   ]
  },
  {
   "cell_type": "code",
   "execution_count": 6,
   "metadata": {},
   "outputs": [],
   "source": [
    "# i=1\n",
    "# k=1 #for printing starts with the increament of 2\n",
    "\n",
    "# while i<=5:\n",
    "#     b=1\n",
    "#     while b<=5-i:\n",
    "#         print(' ',end='')\n",
    "#         b=b+1\n",
    "        \n",
    "#     j=1\n",
    "#     while j<=k:\n",
    "#         print('*', end='')\n",
    "#         j=j+1\n",
    "#     print()\n",
    "    \n",
    "#     k=k+2\n",
    "    \n",
    "#     i=i+1\n"
   ]
  },
  {
   "cell_type": "code",
   "execution_count": 7,
   "metadata": {},
   "outputs": [],
   "source": [
    "# userInput = int(input(\"Please enter the amount of rows: \"))\n",
    "\n",
    "# row = 0\n",
    "# while(row < userInput):\n",
    "#     row += 1\n",
    "#     spaces = userInput - row\n",
    "\n",
    "#     spaces_counter = 0\n",
    "#     while(spaces_counter < spaces):\n",
    "#         print(\" \", end='')\n",
    "#         spaces_counter += 1\n",
    "\n",
    "#     num_stars = 2*row-1\n",
    "#     while(num_stars > 0):\n",
    "#         print(\"*\", end='')\n",
    "#         num_stars -= 1\n",
    "\n",
    "#     print()\n",
    "# print(\"**DS-Training**\")\n"
   ]
  }
 ],
 "metadata": {
  "kernelspec": {
   "display_name": "Python 3 (ipykernel)",
   "language": "python",
   "name": "python3"
  },
  "language_info": {
   "codemirror_mode": {
    "name": "ipython",
    "version": 3
   },
   "file_extension": ".py",
   "mimetype": "text/x-python",
   "name": "python",
   "nbconvert_exporter": "python",
   "pygments_lexer": "ipython3",
   "version": "3.9.12"
  }
 },
 "nbformat": 4,
 "nbformat_minor": 4
}
